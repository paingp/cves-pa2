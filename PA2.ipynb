{
  "nbformat": 4,
  "nbformat_minor": 0,
  "metadata": {
    "colab": {
      "provenance": [],
      "authorship_tag": "ABX9TyO7pY7zSkYBodlL2jBcduN4",
      "include_colab_link": true
    },
    "kernelspec": {
      "name": "python3",
      "display_name": "Python 3"
    },
    "language_info": {
      "name": "python"
    }
  },
  "cells": [
    {
      "cell_type": "markdown",
      "metadata": {
        "id": "view-in-github",
        "colab_type": "text"
      },
      "source": [
        "<a href=\"https://colab.research.google.com/github/paingp/cves-pa2/blob/main/PA2.ipynb\" target=\"_parent\"><img src=\"https://colab.research.google.com/assets/colab-badge.svg\" alt=\"Open In Colab\"/></a>"
      ]
    },
    {
      "cell_type": "markdown",
      "source": [
        "#**CAM2 Computer Vision for Embedded Systems PA1**\n",
        "\n",
        "## **Instructions**\n",
        "Create 2 classes named Robot and Starship.\n",
        "\n",
        "The starship class must inherit the robot class. The functionalities of each class is described below."
      ],
      "metadata": {
        "id": "eO9IUYnDux74"
      }
    },
    {
      "cell_type": "markdown",
      "source": [
        "## Create your robot class below\n",
        "\n",
        "**Requirements of the robot class:**\n",
        "\n",
        "The robot class must have the variables id (int), energy (float), and last_maintenance (list of 3 int).\n",
        "\n",
        "The robot class should also have two methods charge and power_off.\n",
        "\n",
        "The charge method should accept an int representing the number of minutes charged. \n",
        "Formula to calculate energy: charged minutes * 0.01\n",
        "\n",
        "The power_off method should print \"Powering off\""
      ],
      "metadata": {
        "id": "lHkBtkOR3EQC"
      }
    },
    {
      "cell_type": "code",
      "execution_count": null,
      "metadata": {
        "id": "0bvBOFN9sli_"
      },
      "outputs": [],
      "source": [
        "# Define robot class here"
      ]
    },
    {
      "cell_type": "markdown",
      "source": [
        "## Create your Starship class below\n",
        "\n",
        "**Requirements of the starship class:** \n",
        "\n",
        "The starship class must inherit the robot class.\n",
        "\n",
        "In addition to all the variables of the robot class, the starship class also has two additional variables: speed (int), location (list)\n",
        "\n",
        "The starship class has a different charge method than the robot class. The charge method for the starship class should accept a floating point number which is to be added to the current energy.\n",
        "\n",
        "**Note:** You can just define the charge method in the robot class as you normally would without having to worry about inheritance. If you define methods in an inherited (starship) with the same name as those from the derived (robot) class, the definitions in the inherited class will overwrite the definitions of the derived class.\n",
        "\n",
        "The additional method the starship class uses is update_location.\n",
        "\n",
        "The update_location method should accept an integer as its input and use it as offset to determine the output.\n",
        "\n",
        "For example:\n",
        "\n",
        "location = ['Third Street', 'PMU', 'EE', 'Armstrong']\n",
        "\n",
        "If the current location of the starship is at PMU, then update_location(2) should return 'Armstrong'.\n",
        "\n",
        "If the input to update_location is larger than the valid index, loop around the list.\n",
        "\n",
        "For example, if current location is EE and update_location(3) is performed, then location should be 'PMU'."
      ],
      "metadata": {
        "id": "nvO3nNBB3Dpe"
      }
    },
    {
      "cell_type": "code",
      "source": [
        "# Define starship class here"
      ],
      "metadata": {
        "id": "YTyCTNWV3aza"
      },
      "execution_count": null,
      "outputs": []
    },
    {
      "cell_type": "markdown",
      "source": [
        "## Test the functionality of the two classes you created.\n",
        "\n",
        "Create two objects initialized to arbitrary values to do this. The last code block in this notebook shows an example."
      ],
      "metadata": {
        "id": "EzaC-88D3aE7"
      }
    },
    {
      "cell_type": "code",
      "source": [
        "# Test your code here"
      ],
      "metadata": {
        "id": "Uu-A9zZd3wWX"
      },
      "execution_count": null,
      "outputs": []
    },
    {
      "cell_type": "markdown",
      "source": [
        "## Sample Code\n",
        "\n",
        "The code below is provided as an example to demonstrate the concept of inheritance, overwriting methods in classes."
      ],
      "metadata": {
        "id": "Gb8VTFH2z5ng"
      }
    },
    {
      "cell_type": "markdown",
      "source": [
        "**Pet class**"
      ],
      "metadata": {
        "id": "6XnNNlTD1nVB"
      }
    },
    {
      "cell_type": "code",
      "source": [
        "class Pet:\n",
        "    '''\n",
        "    __init__ is a constructor for a class\n",
        "    This is what allows the programmer to set the variables of an object\n",
        "    All the functions associated with a class are called methods\n",
        "    '''\n",
        "    def __init__(self, name, pet_type, food):\n",
        "        self.name = name\n",
        "        self.pet_type = pet_type\n",
        "        self.favorite_food = food\n",
        "    def displayInfo(self):\n",
        "        print(f'Name: {self.name}')\n",
        "        print(f'Pet type: {self.pet_type}')\n",
        "        print(f'Favorite food: {self.favorite_food}')"
      ],
      "metadata": {
        "id": "n-Y8c7f80X9K"
      },
      "execution_count": 1,
      "outputs": []
    },
    {
      "cell_type": "markdown",
      "source": [
        "**Dog class**\n",
        "\n",
        "The dog class is derived from the pet class and will inherit all the variables and methods associated with the pet class."
      ],
      "metadata": {
        "id": "c39PRtYL14sT"
      }
    },
    {
      "cell_type": "code",
      "source": [
        "'''\n",
        "Putting Pet inside the parentheses indicate that the Pet class will inherit the Dog class\n",
        "This means all the objects of the Dog class can use all the methods belonging to the Pet class\n",
        "'''\n",
        "class Dog(Pet):\n",
        "    def __init__(self, name, pet_type, food, age):\n",
        "        # Inherit __init__ from the Pet class\n",
        "        super().__init__(name, pet_type, food)\n",
        "        # Add additional functionality\n",
        "        self.age = age\n",
        "    def displayInfo(self):\n",
        "        '''\n",
        "        When we call the displayInfo method on an object of the Dog class,\n",
        "        this definition of the displayInfo method will overwrite the definition in the Pet class\n",
        "        '''\n",
        "        print(f'The name of my pet {self.pet_type} is {self.name}')\n",
        "        print(f'It is {self.age} years old and its favorite food is {self.favorite_food}')\n",
        "    def updateAge(self, add_years):\n",
        "        self.age += add_years"
      ],
      "metadata": {
        "id": "foiPLLHD2GpA"
      },
      "execution_count": 4,
      "outputs": []
    },
    {
      "cell_type": "markdown",
      "source": [
        "Use this to test the functionality of the pet and dog class."
      ],
      "metadata": {
        "id": "QVMl5kmO2IQ3"
      }
    },
    {
      "cell_type": "code",
      "source": [
        "print(f'Example pet object:')\n",
        "petObject = Pet('Garfield', 'cat', 'fish')\n",
        "petObject.displayInfo()\n",
        "\n",
        "print(f'\\nExample dog object:')\n",
        "\n",
        "scooby = Dog('Scooby-Doo', 'great dane', 'Scooby snacks', 7)\n",
        "scooby.updateAge(1)\n",
        "scooby.displayInfo()"
      ],
      "metadata": {
        "colab": {
          "base_uri": "https://localhost:8080/"
        },
        "id": "oYBmie3e2YxT",
        "outputId": "5ca4c003-45fe-42ed-c3d2-d1c8694d09aa"
      },
      "execution_count": 7,
      "outputs": [
        {
          "output_type": "stream",
          "name": "stdout",
          "text": [
            "Example pet object:\n",
            "Name: Garfield\n",
            "Pet type: cat\n",
            "Favorite food: fish\n",
            "\n",
            "Example dog object:\n",
            "The name of my pet great dane is Scooby-Doo\n",
            "It is 8 years old and its favorite food is Scooby snacks\n"
          ]
        }
      ]
    }
  ]
}